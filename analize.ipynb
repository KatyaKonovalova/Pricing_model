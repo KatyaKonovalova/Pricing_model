{
 "cells": [
  {
   "cell_type": "code",
   "id": "initial_id",
   "metadata": {
    "collapsed": true,
    "ExecuteTime": {
     "end_time": "2024-09-12T15:22:20.590820Z",
     "start_time": "2024-09-12T15:22:19.891671Z"
    }
   },
   "source": [
    "import pandas as pd\n",
    "\n",
    "df = pd.read_csv('media/data/csv_data.csv')\n",
    "df.head()"
   ],
   "outputs": [
    {
     "data": {
      "text/plain": [
       "   price  count  add_cost   company      product\n",
       "0  75627    773      3260    Amazon     ThinkPad\n",
       "1  31518    707      1134     Apple  PlayStation\n",
       "2  78779     68      4813  Facebook         Xbox\n",
       "3  69618    202      4338  Facebook        Pixel\n",
       "4  15576    827      4500    Amazon   Chromebook"
      ],
      "text/html": [
       "<div>\n",
       "<style scoped>\n",
       "    .dataframe tbody tr th:only-of-type {\n",
       "        vertical-align: middle;\n",
       "    }\n",
       "\n",
       "    .dataframe tbody tr th {\n",
       "        vertical-align: top;\n",
       "    }\n",
       "\n",
       "    .dataframe thead th {\n",
       "        text-align: right;\n",
       "    }\n",
       "</style>\n",
       "<table border=\"1\" class=\"dataframe\">\n",
       "  <thead>\n",
       "    <tr style=\"text-align: right;\">\n",
       "      <th></th>\n",
       "      <th>price</th>\n",
       "      <th>count</th>\n",
       "      <th>add_cost</th>\n",
       "      <th>company</th>\n",
       "      <th>product</th>\n",
       "    </tr>\n",
       "  </thead>\n",
       "  <tbody>\n",
       "    <tr>\n",
       "      <th>0</th>\n",
       "      <td>75627</td>\n",
       "      <td>773</td>\n",
       "      <td>3260</td>\n",
       "      <td>Amazon</td>\n",
       "      <td>ThinkPad</td>\n",
       "    </tr>\n",
       "    <tr>\n",
       "      <th>1</th>\n",
       "      <td>31518</td>\n",
       "      <td>707</td>\n",
       "      <td>1134</td>\n",
       "      <td>Apple</td>\n",
       "      <td>PlayStation</td>\n",
       "    </tr>\n",
       "    <tr>\n",
       "      <th>2</th>\n",
       "      <td>78779</td>\n",
       "      <td>68</td>\n",
       "      <td>4813</td>\n",
       "      <td>Facebook</td>\n",
       "      <td>Xbox</td>\n",
       "    </tr>\n",
       "    <tr>\n",
       "      <th>3</th>\n",
       "      <td>69618</td>\n",
       "      <td>202</td>\n",
       "      <td>4338</td>\n",
       "      <td>Facebook</td>\n",
       "      <td>Pixel</td>\n",
       "    </tr>\n",
       "    <tr>\n",
       "      <th>4</th>\n",
       "      <td>15576</td>\n",
       "      <td>827</td>\n",
       "      <td>4500</td>\n",
       "      <td>Amazon</td>\n",
       "      <td>Chromebook</td>\n",
       "    </tr>\n",
       "  </tbody>\n",
       "</table>\n",
       "</div>"
      ]
     },
     "execution_count": 5,
     "metadata": {},
     "output_type": "execute_result"
    }
   ],
   "execution_count": 5
  },
  {
   "metadata": {},
   "cell_type": "markdown",
   "source": [
    "**Знакомство с датасетом**\n",
    "\n",
    "None - тип данных в Python\n",
    "\n",
    "NULL - в БД и используется в Pandas для обозначения None\n",
    "\n",
    "NaN - Not a Number\n",
    "\n",
    "1 1 1 1 1 2 2 2 1000000 - медиана 1\n",
    "\n",
    "1 1 1 1 2 2 2 1000000 - медиана 1.5"
   ],
   "id": "da71845dfab1b045"
  },
  {
   "metadata": {
    "ExecuteTime": {
     "end_time": "2024-09-12T15:22:25.093151Z",
     "start_time": "2024-09-12T15:22:25.087402Z"
    }
   },
   "cell_type": "code",
   "source": "df.shape",
   "id": "b9b023b7ddca4ed1",
   "outputs": [
    {
     "data": {
      "text/plain": [
       "(1000000, 5)"
      ]
     },
     "execution_count": 6,
     "metadata": {},
     "output_type": "execute_result"
    }
   ],
   "execution_count": 6
  },
  {
   "metadata": {
    "ExecuteTime": {
     "end_time": "2024-09-12T15:22:25.681438Z",
     "start_time": "2024-09-12T15:22:25.547840Z"
    }
   },
   "cell_type": "code",
   "source": "df.info()",
   "id": "2448b3faae65b477",
   "outputs": [
    {
     "name": "stdout",
     "output_type": "stream",
     "text": [
      "<class 'pandas.core.frame.DataFrame'>\n",
      "RangeIndex: 1000000 entries, 0 to 999999\n",
      "Data columns (total 5 columns):\n",
      " #   Column    Non-Null Count    Dtype \n",
      "---  ------    --------------    ----- \n",
      " 0   price     1000000 non-null  int64 \n",
      " 1   count     1000000 non-null  int64 \n",
      " 2   add_cost  1000000 non-null  int64 \n",
      " 3   company   1000000 non-null  object\n",
      " 4   product   1000000 non-null  object\n",
      "dtypes: int64(3), object(2)\n",
      "memory usage: 38.1+ MB\n"
     ]
    }
   ],
   "execution_count": 7
  },
  {
   "metadata": {
    "ExecuteTime": {
     "end_time": "2024-09-12T15:22:26.232746Z",
     "start_time": "2024-09-12T15:22:26.039279Z"
    }
   },
   "cell_type": "code",
   "source": "df.describe()",
   "id": "3e157ce35cc604ad",
   "outputs": [
    {
     "data": {
      "text/plain": [
       "                price           count        add_cost\n",
       "count  1000000.000000  1000000.000000  1000000.000000\n",
       "mean     55050.425611      499.849236     5504.458764\n",
       "std      25998.846437      288.488434     2598.828973\n",
       "min      10000.000000        1.000000     1000.000000\n",
       "25%      32529.000000      250.000000     3252.000000\n",
       "50%      55061.000000      500.000000     5507.000000\n",
       "75%      77587.000000      750.000000     7759.000000\n",
       "max      99999.000000      999.000000     9999.000000"
      ],
      "text/html": [
       "<div>\n",
       "<style scoped>\n",
       "    .dataframe tbody tr th:only-of-type {\n",
       "        vertical-align: middle;\n",
       "    }\n",
       "\n",
       "    .dataframe tbody tr th {\n",
       "        vertical-align: top;\n",
       "    }\n",
       "\n",
       "    .dataframe thead th {\n",
       "        text-align: right;\n",
       "    }\n",
       "</style>\n",
       "<table border=\"1\" class=\"dataframe\">\n",
       "  <thead>\n",
       "    <tr style=\"text-align: right;\">\n",
       "      <th></th>\n",
       "      <th>price</th>\n",
       "      <th>count</th>\n",
       "      <th>add_cost</th>\n",
       "    </tr>\n",
       "  </thead>\n",
       "  <tbody>\n",
       "    <tr>\n",
       "      <th>count</th>\n",
       "      <td>1000000.000000</td>\n",
       "      <td>1000000.000000</td>\n",
       "      <td>1000000.000000</td>\n",
       "    </tr>\n",
       "    <tr>\n",
       "      <th>mean</th>\n",
       "      <td>55050.425611</td>\n",
       "      <td>499.849236</td>\n",
       "      <td>5504.458764</td>\n",
       "    </tr>\n",
       "    <tr>\n",
       "      <th>std</th>\n",
       "      <td>25998.846437</td>\n",
       "      <td>288.488434</td>\n",
       "      <td>2598.828973</td>\n",
       "    </tr>\n",
       "    <tr>\n",
       "      <th>min</th>\n",
       "      <td>10000.000000</td>\n",
       "      <td>1.000000</td>\n",
       "      <td>1000.000000</td>\n",
       "    </tr>\n",
       "    <tr>\n",
       "      <th>25%</th>\n",
       "      <td>32529.000000</td>\n",
       "      <td>250.000000</td>\n",
       "      <td>3252.000000</td>\n",
       "    </tr>\n",
       "    <tr>\n",
       "      <th>50%</th>\n",
       "      <td>55061.000000</td>\n",
       "      <td>500.000000</td>\n",
       "      <td>5507.000000</td>\n",
       "    </tr>\n",
       "    <tr>\n",
       "      <th>75%</th>\n",
       "      <td>77587.000000</td>\n",
       "      <td>750.000000</td>\n",
       "      <td>7759.000000</td>\n",
       "    </tr>\n",
       "    <tr>\n",
       "      <th>max</th>\n",
       "      <td>99999.000000</td>\n",
       "      <td>999.000000</td>\n",
       "      <td>9999.000000</td>\n",
       "    </tr>\n",
       "  </tbody>\n",
       "</table>\n",
       "</div>"
      ]
     },
     "execution_count": 8,
     "metadata": {},
     "output_type": "execute_result"
    }
   ],
   "execution_count": 8
  },
  {
   "metadata": {
    "ExecuteTime": {
     "end_time": "2024-09-12T15:22:26.865557Z",
     "start_time": "2024-09-12T15:22:26.575116Z"
    }
   },
   "cell_type": "code",
   "source": "df.describe(include='object')",
   "id": "5ec2d22224f8d48c",
   "outputs": [
    {
     "data": {
      "text/plain": [
       "        company   product\n",
       "count   1000000   1000000\n",
       "unique       10        20\n",
       "top         IBM  ThinkPad\n",
       "freq     100252     50423"
      ],
      "text/html": [
       "<div>\n",
       "<style scoped>\n",
       "    .dataframe tbody tr th:only-of-type {\n",
       "        vertical-align: middle;\n",
       "    }\n",
       "\n",
       "    .dataframe tbody tr th {\n",
       "        vertical-align: top;\n",
       "    }\n",
       "\n",
       "    .dataframe thead th {\n",
       "        text-align: right;\n",
       "    }\n",
       "</style>\n",
       "<table border=\"1\" class=\"dataframe\">\n",
       "  <thead>\n",
       "    <tr style=\"text-align: right;\">\n",
       "      <th></th>\n",
       "      <th>company</th>\n",
       "      <th>product</th>\n",
       "    </tr>\n",
       "  </thead>\n",
       "  <tbody>\n",
       "    <tr>\n",
       "      <th>count</th>\n",
       "      <td>1000000</td>\n",
       "      <td>1000000</td>\n",
       "    </tr>\n",
       "    <tr>\n",
       "      <th>unique</th>\n",
       "      <td>10</td>\n",
       "      <td>20</td>\n",
       "    </tr>\n",
       "    <tr>\n",
       "      <th>top</th>\n",
       "      <td>IBM</td>\n",
       "      <td>ThinkPad</td>\n",
       "    </tr>\n",
       "    <tr>\n",
       "      <th>freq</th>\n",
       "      <td>100252</td>\n",
       "      <td>50423</td>\n",
       "    </tr>\n",
       "  </tbody>\n",
       "</table>\n",
       "</div>"
      ]
     },
     "execution_count": 9,
     "metadata": {},
     "output_type": "execute_result"
    }
   ],
   "execution_count": 9
  },
  {
   "metadata": {},
   "cell_type": "markdown",
   "source": "**Визуализация**",
   "id": "92072596bdb6e0c1"
  },
  {
   "metadata": {
    "ExecuteTime": {
     "end_time": "2024-09-12T15:22:27.549024Z",
     "start_time": "2024-09-12T15:22:27.544415Z"
    }
   },
   "cell_type": "code",
   "source": "from matplotlib import pyplot as plt",
   "id": "fba4ab7157713122",
   "outputs": [],
   "execution_count": 10
  },
  {
   "metadata": {
    "ExecuteTime": {
     "end_time": "2024-09-12T15:22:27.973864Z",
     "start_time": "2024-09-12T15:22:27.966643Z"
    }
   },
   "cell_type": "code",
   "source": "df['product']",
   "id": "db12a7e905477f33",
   "outputs": [
    {
     "data": {
      "text/plain": [
       "0             ThinkPad\n",
       "1          PlayStation\n",
       "2                 Xbox\n",
       "3                Pixel\n",
       "4           Chromebook\n",
       "              ...     \n",
       "999995          Galaxy\n",
       "999996      Chromebook\n",
       "999997    Raspberry Pi\n",
       "999998        ThinkPad\n",
       "999999         Surface\n",
       "Name: product, Length: 1000000, dtype: object"
      ]
     },
     "execution_count": 11,
     "metadata": {},
     "output_type": "execute_result"
    }
   ],
   "execution_count": 11
  },
  {
   "metadata": {
    "ExecuteTime": {
     "end_time": "2024-09-12T15:22:28.739049Z",
     "start_time": "2024-09-12T15:22:28.728927Z"
    }
   },
   "cell_type": "code",
   "source": "df.product",
   "id": "966c35ee72259b2c",
   "outputs": [
    {
     "data": {
      "text/plain": [
       "<bound method DataFrame.prod of         price  count  add_cost    company       product\n",
       "0       75627    773      3260     Amazon      ThinkPad\n",
       "1       31518    707      1134      Apple   PlayStation\n",
       "2       78779     68      4813   Facebook          Xbox\n",
       "3       69618    202      4338   Facebook         Pixel\n",
       "4       15576    827      4500     Amazon    Chromebook\n",
       "...       ...    ...       ...        ...           ...\n",
       "999995  94726    920      3563    Samsung        Galaxy\n",
       "999996  60036    721      4217   Facebook    Chromebook\n",
       "999997  21337    257      9891     Oracle  Raspberry Pi\n",
       "999998  49648    797      1052   Facebook      ThinkPad\n",
       "999999  69479    568      1015  Microsoft       Surface\n",
       "\n",
       "[1000000 rows x 5 columns]>"
      ]
     },
     "execution_count": 12,
     "metadata": {},
     "output_type": "execute_result"
    }
   ],
   "execution_count": 12
  },
  {
   "metadata": {
    "ExecuteTime": {
     "end_time": "2024-09-12T15:38:43.077921Z",
     "start_time": "2024-09-12T15:32:05.434962Z"
    }
   },
   "cell_type": "code",
   "source": "df[(df['product'] == 'ThinkPad') & (df['company'] == 'Microsoft')].plot(kind='bar', x='company', y='price')",
   "id": "1891d908085492ca",
   "outputs": [
    {
     "data": {
      "text/plain": [
       "<Axes: xlabel='company'>"
      ]
     },
     "execution_count": 14,
     "metadata": {},
     "output_type": "execute_result"
    },
    {
     "data": {
      "text/plain": [
       "<Figure size 640x480 with 1 Axes>"
      ],
      "image/png": "[encoded data removed]"
     },
     "metadata": {},
     "output_type": "display_data"
    }
   ],
   "execution_count": 14
  },
  {
   "metadata": {},
   "cell_type": "code",
   "outputs": [],
   "execution_count": null,
   "source": "",
   "id": "44cd231d8f51c4c6"
  }
 ],
 "metadata": {
  "kernelspec": {
   "display_name": "Python 3",
   "language": "python",
   "name": "python3"
  },
  "language_info": {
   "codemirror_mode": {
    "name": "ipython",
    "version": 2
   },
   "file_extension": ".py",
   "mimetype": "text/x-python",
   "name": "python",
   "nbconvert_exporter": "python",
   "pygments_lexer": "ipython2",
   "version": "2.7.6"
  }
 },
 "nbformat": 4,
 "nbformat_minor": 5
}
